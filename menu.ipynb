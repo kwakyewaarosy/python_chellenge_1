{
 "cells": [
  {
   "cell_type": "code",
   "execution_count": 5,
   "id": "3137eb23-de77-473c-9f35-9dc5958666d2",
   "metadata": {},
   "outputs": [
    {
     "name": "stdout",
     "output_type": "stream",
     "text": [
      "Welcome to the variety food truck.\n",
      "\n",
      "From which menu would you like to order?\n",
      "1: Snacks\n",
      "2: Meals\n",
      "3: Drinks\n",
      "4: Dessert\n"
     ]
    },
    {
     "name": "stdin",
     "output_type": "stream",
     "text": [
      "Type menu number:  2\n"
     ]
    },
    {
     "name": "stdout",
     "output_type": "stream",
     "text": [
      "You selected Meals\n",
      "\n",
      "What Meals item would you like to order?\n",
      "Item # | Item name                | Price\n",
      "-------|--------------------------|-------\n",
      "1      | Burrito                  | $4.49\n",
      "2      | Teriyaki Chicken         | $9.99\n",
      "3      | Sushi                    | $7.49\n",
      "4      | Pad Thai                 | $6.99\n",
      "5      | Pizza - Cheese           | $8.99\n",
      "6      | Pizza - Pepperoni        | $10.99\n",
      "7      | Pizza - Vegetarian       | $9.99\n",
      "8      | Burger - Chicken         | $7.49\n",
      "9      | Burger - Beef            | $8.49\n"
     ]
    },
    {
     "name": "stdin",
     "output_type": "stream",
     "text": [
      "\n",
      "Enter the item number you'd like to order:  5\n",
      "Enter the quantity (default is 1):  1\n"
     ]
    },
    {
     "name": "stdout",
     "output_type": "stream",
     "text": [
      "Added 1 x Pizza - Cheese to your order.\n"
     ]
    },
    {
     "name": "stdin",
     "output_type": "stream",
     "text": [
      "Would you like to keep ordering? (Y)es or (N)o  y\n"
     ]
    },
    {
     "name": "stdout",
     "output_type": "stream",
     "text": [
      "\n",
      "From which menu would you like to order?\n",
      "1: Snacks\n",
      "2: Meals\n",
      "3: Drinks\n",
      "4: Dessert\n"
     ]
    },
    {
     "name": "stdin",
     "output_type": "stream",
     "text": [
      "Type menu number:  1\n"
     ]
    },
    {
     "name": "stdout",
     "output_type": "stream",
     "text": [
      "You selected Snacks\n",
      "\n",
      "What Snacks item would you like to order?\n",
      "Item # | Item name                | Price\n",
      "-------|--------------------------|-------\n",
      "1      | Cookie                   | $0.99\n",
      "2      | Banana                   | $0.69\n",
      "3      | Apple                    | $0.49\n",
      "4      | Granola bar              | $1.99\n"
     ]
    },
    {
     "name": "stdin",
     "output_type": "stream",
     "text": [
      "\n",
      "Enter the item number you'd like to order:  3\n",
      "Enter the quantity (default is 1):  2\n"
     ]
    },
    {
     "name": "stdout",
     "output_type": "stream",
     "text": [
      "Added 2 x Apple to your order.\n"
     ]
    },
    {
     "name": "stdin",
     "output_type": "stream",
     "text": [
      "Would you like to keep ordering? (Y)es or (N)o  y\n"
     ]
    },
    {
     "name": "stdout",
     "output_type": "stream",
     "text": [
      "\n",
      "From which menu would you like to order?\n",
      "1: Snacks\n",
      "2: Meals\n",
      "3: Drinks\n",
      "4: Dessert\n"
     ]
    },
    {
     "name": "stdin",
     "output_type": "stream",
     "text": [
      "Type menu number:  3\n"
     ]
    },
    {
     "name": "stdout",
     "output_type": "stream",
     "text": [
      "You selected Drinks\n",
      "\n",
      "What Drinks item would you like to order?\n",
      "Item # | Item name                | Price\n",
      "-------|--------------------------|-------\n",
      "1      | Soda - Small             | $1.99\n",
      "2      | Soda - Medium            | $2.49\n",
      "3      | Soda - Large             | $2.99\n",
      "4      | Tea - Green              | $2.49\n",
      "5      | Tea - Thai iced          | $3.99\n",
      "6      | Tea - Irish breakfast    | $2.49\n",
      "7      | Coffee - Espresso        | $2.99\n",
      "8      | Coffee - Flat white      | $2.99\n",
      "9      | Coffee - Iced            | $3.49\n"
     ]
    },
    {
     "name": "stdin",
     "output_type": "stream",
     "text": [
      "\n",
      "Enter the item number you'd like to order:  1\n",
      "Enter the quantity (default is 1):  1\n"
     ]
    },
    {
     "name": "stdout",
     "output_type": "stream",
     "text": [
      "Added 1 x Soda - Small to your order.\n"
     ]
    },
    {
     "name": "stdin",
     "output_type": "stream",
     "text": [
      "Would you like to keep ordering? (Y)es or (N)o  y\n"
     ]
    },
    {
     "name": "stdout",
     "output_type": "stream",
     "text": [
      "\n",
      "From which menu would you like to order?\n",
      "1: Snacks\n",
      "2: Meals\n",
      "3: Drinks\n",
      "4: Dessert\n"
     ]
    },
    {
     "name": "stdin",
     "output_type": "stream",
     "text": [
      "Type menu number:  4\n"
     ]
    },
    {
     "name": "stdout",
     "output_type": "stream",
     "text": [
      "You selected Dessert\n",
      "\n",
      "What Dessert item would you like to order?\n",
      "Item # | Item name                | Price\n",
      "-------|--------------------------|-------\n",
      "1      | Chocolate lava cake      | $10.99\n",
      "2      | Cheesecake - New York    | $4.99\n",
      "3      | Cheesecake - Strawberry  | $6.49\n",
      "4      | Australian Pavlova       | $9.99\n",
      "5      | Rice pudding             | $4.99\n",
      "6      | Fried banana             | $4.49\n"
     ]
    },
    {
     "name": "stdin",
     "output_type": "stream",
     "text": [
      "\n",
      "Enter the item number you'd like to order:  3\n",
      "Enter the quantity (default is 1):  1\n"
     ]
    },
    {
     "name": "stdout",
     "output_type": "stream",
     "text": [
      "Added 1 x Cheesecake - Strawberry to your order.\n"
     ]
    },
    {
     "name": "stdin",
     "output_type": "stream",
     "text": [
      "Would you like to keep ordering? (Y)es or (N)o  n\n"
     ]
    },
    {
     "name": "stdout",
     "output_type": "stream",
     "text": [
      "\n",
      "This is what we are preparing for you.\n",
      "\n",
      "Item name                 | Price  | Quantity\n",
      "--------------------------|--------|----------\n",
      "Pizza - Cheese           | $8.99 | 1\n",
      "Apple                    | $0.49 | 2\n",
      "Soda - Small             | $1.99 | 1\n",
      "Cheesecake - Strawberry  | $6.49 | 1\n",
      "\n",
      "Total cost of your order is: $18.45\n"
     ]
    }
   ],
   "source": [
    "\n",
    "# Menu dictionary\n",
    "menu = {\n",
    "    \"Snacks\": {\n",
    "        \"Cookie\": .99,\n",
    "        \"Banana\": .69,\n",
    "        \"Apple\": .49,\n",
    "        \"Granola bar\": 1.99\n",
    "    },\n",
    "    \"Meals\": {\n",
    "        \"Burrito\": 4.49,\n",
    "        \"Teriyaki Chicken\": 9.99,\n",
    "        \"Sushi\": 7.49,\n",
    "        \"Pad Thai\": 6.99,\n",
    "        \"Pizza\": {\n",
    "            \"Cheese\": 8.99,\n",
    "            \"Pepperoni\": 10.99,\n",
    "            \"Vegetarian\": 9.99\n",
    "        },\n",
    "        \"Burger\": {\n",
    "            \"Chicken\": 7.49,\n",
    "            \"Beef\": 8.49\n",
    "        }\n",
    "    },\n",
    "    \"Drinks\": {\n",
    "        \"Soda\": {\n",
    "            \"Small\": 1.99,\n",
    "            \"Medium\": 2.49,\n",
    "            \"Large\": 2.99\n",
    "        },\n",
    "        \"Tea\": {\n",
    "            \"Green\": 2.49,\n",
    "            \"Thai iced\": 3.99,\n",
    "            \"Irish breakfast\": 2.49\n",
    "        },\n",
    "        \"Coffee\": {\n",
    "            \"Espresso\": 2.99,\n",
    "            \"Flat white\": 2.99,\n",
    "            \"Iced\": 3.49\n",
    "        }\n",
    "    },\n",
    "    \"Dessert\": {\n",
    "        \"Chocolate lava cake\": 10.99,\n",
    "        \"Cheesecake\": {\n",
    "            \"New York\": 4.99,\n",
    "            \"Strawberry\": 6.49\n",
    "        },\n",
    "        \"Australian Pavlova\": 9.99,\n",
    "        \"Rice pudding\": 4.99,\n",
    "        \"Fried banana\": 4.49\n",
    "    }\n",
    "}\n",
    "\n",
    "order = []\n",
    "\n",
    "\n",
    "print(\"Welcome to the variety food truck.\")\n",
    "\n",
    "place_order = True\n",
    "\n",
    "while place_order:\n",
    "    \n",
    "    print(\"\\nFrom which menu would you like to order?\")\n",
    "\n",
    "   \n",
    "    i = 1\n",
    "    \n",
    "    menu_items = {}\n",
    "\n",
    "   \n",
    "    for key in menu.keys():\n",
    "        print(f\"{i}: {key}\")\n",
    "        menu_items[i] = key\n",
    "        i += 1\n",
    "\n",
    "   \n",
    "    menu_category = input(\"Type menu number: \")\n",
    "\n",
    "    \n",
    "    if menu_category.isdigit():\n",
    "        if int(menu_category) in menu_items.keys():\n",
    "            menu_category_name = menu_items[int(menu_category)]\n",
    "            print(f\"You selected {menu_category_name}\")\n",
    "            \n",
    "            \n",
    "            print(f\"\\nWhat {menu_category_name} item would you like to order?\")\n",
    "            i = 1\n",
    "            menu_items = {}\n",
    "            print(\"Item # | Item name                | Price\")\n",
    "            print(\"-------|--------------------------|-------\")\n",
    "            for key, value in menu[menu_category_name].items():\n",
    "                if type(value) is dict:\n",
    "                    for key2, value2 in value.items():\n",
    "                        item_spaces = \" \" * (24 - len(key + key2) - 3)\n",
    "                        print(f\"{i}      | {key} - {key2}{item_spaces} | ${value2}\")\n",
    "                        menu_items[i] = {\"Item name\": f\"{key} - {key2}\", \"Price\": value2}\n",
    "                        i += 1\n",
    "                else:\n",
    "                    item_spaces = \" \" * (24 - len(key))\n",
    "                    print(f\"{i}      | {key}{item_spaces} | ${value}\")\n",
    "                    menu_items[i] = {\"Item name\": key, \"Price\": value}\n",
    "                    i += 1\n",
    "\n",
    "            \n",
    "            item_number = input(\"\\nEnter the item number you'd like to order: \")\n",
    "            if item_number.isdigit() and int(item_number) in menu_items.keys():\n",
    "                item = menu_items[int(item_number)]\n",
    "                quantity = input(\"Enter the quantity (default is 1): \")\n",
    "                quantity = int(quantity) if quantity.isdigit() else 1\n",
    "                order.append({\"Item name\": item[\"Item name\"], \"Price\": item[\"Price\"], \"Quantity\": quantity})\n",
    "                print(f\"Added {quantity} x {item['Item name']} to your order.\")\n",
    "            else:\n",
    "                print(\"Invalid item selection.\")\n",
    "        else:\n",
    "            print(f\"{menu_category} was not a menu option.\")\n",
    "    else:\n",
    "        print(\"You didn't select a number.\")\n",
    "\n",
    "    \n",
    "    while True:\n",
    "        keep_ordering = input(\"Would you like to keep ordering? (Y)es or (N)o \").lower()\n",
    "        if keep_ordering in ['y', 'yes']:\n",
    "            break\n",
    "        elif keep_ordering in ['n', 'no']:\n",
    "            place_order = False\n",
    "            break\n",
    "        else:\n",
    "            print(\"Invalid input. Please enter 'Y' or 'N'.\")\n",
    "\n",
    "\n",
    "print(\"\\nThis is what we are preparing for you.\\n\")\n",
    "print(\"Item name                 | Price  | Quantity\")\n",
    "print(\"--------------------------|--------|----------\")\n",
    "total_cost = 0\n",
    "for item in order:\n",
    "    name, price, quantity = item[\"Item name\"], item[\"Price\"], item[\"Quantity\"]\n",
    "    item_spaces = \" \" * (24 - len(name))\n",
    "    print(f\"{name}{item_spaces} | ${price:.2f} | {quantity}\")\n",
    "    total_cost += price * quantity\n",
    "\n",
    "print(f\"\\nTotal cost of your order is: ${total_cost:.2f}\")\n"
   ]
  },
  {
   "cell_type": "code",
   "execution_count": null,
   "id": "b090f13d-9012-436e-a8fe-813fff2e0a0d",
   "metadata": {},
   "outputs": [],
   "source": []
  },
  {
   "cell_type": "code",
   "execution_count": null,
   "id": "18af196e-cc8c-4cfd-9f19-ec49df5cdb53",
   "metadata": {},
   "outputs": [],
   "source": []
  }
 ],
 "metadata": {
  "kernelspec": {
   "display_name": "Python 3 (ipykernel)",
   "language": "python",
   "name": "python3"
  },
  "language_info": {
   "codemirror_mode": {
    "name": "ipython",
    "version": 3
   },
   "file_extension": ".py",
   "mimetype": "text/x-python",
   "name": "python",
   "nbconvert_exporter": "python",
   "pygments_lexer": "ipython3",
   "version": "3.12.7"
  }
 },
 "nbformat": 4,
 "nbformat_minor": 5
}
